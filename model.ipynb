{
 "cells": [
  {
   "cell_type": "code",
   "execution_count": 1,
   "metadata": {},
   "outputs": [],
   "source": [
    "import numpy as np\n",
    "import matplotlib.pyplot as plt\n",
    "import seaborn as sn\n",
    "import pandas as pd\n",
    "import os\n",
    "\n",
    "data = pd.read_csv('hotel_bookings.csv')"
   ]
  },
  {
   "cell_type": "code",
   "execution_count": 2,
   "metadata": {},
   "outputs": [],
   "source": [
    "# Train-test split\n",
    "from sklearn.model_selection import train_test_split\n",
    "y = (data['is_canceled'] == 1)\n",
    "X = data.drop('is_canceled',axis=1)\n",
    "X_train,X_test,y_train,y_test = train_test_split(X,y,train_size=0.7,random_state=42)"
   ]
  },
  {
   "cell_type": "code",
   "execution_count": 3,
   "metadata": {},
   "outputs": [],
   "source": [
    "# Make a function to pre-process the data\n",
    "# Surprising features that didn't help:\n",
    "#     assigned_room_type, one-hot-encoded into categories.\n",
    "#     is_repeated_guest, since relevant past info is already included in previous_cancellations\n",
    "\n",
    "def preprocess(X):\n",
    "    # Remove unused variables\n",
    "    drop_vars = ['arrival_date_year','arrival_date_day_of_month','arrival_date_month','previous_bookings_not_canceled',\n",
    "                 'agent','company','days_in_waiting_list','children','babies','assigned_room_type',\n",
    "                'country','distribution_channel','reserved_room_type','meal','is_repeated_guest',\n",
    "                 'deposit_type','reservation_status','reservation_status_date']\n",
    "    for v in drop_vars:\n",
    "        if v in X.keys():\n",
    "            X = X.drop(v,axis=1)\n",
    "    \n",
    "    # Replace some NaNs\n",
    "    if 'children' in X.keys():\n",
    "        children = X['children']\n",
    "        children[np.isnan(children)] = 0\n",
    "        X.update(children)\n",
    "    \n",
    "    # Put market_segment into groups:\n",
    "    # Groups, Online TA + Offline TA/TO, Other.\n",
    "    # \"Complementary\" has a lot of info but it's equivalent to adr = 0 so no need to include\n",
    "    ms_groups = X['market_segment'] == 'Groups'\n",
    "    ms_ta = (X['market_segment'] == 'Online TA') | (X['market_segment'] == 'Offline TA/TO')\n",
    "    ms_other = ~(ms_groups | ms_ta)\n",
    "    X.insert(5,'ms_groups',ms_groups)\n",
    "    X.insert(5,'ms_ta',ms_ta)\n",
    "    X.insert(5,'ms_other',ms_other)\n",
    "    X = X.drop('market_segment',axis=1)\n",
    "    \n",
    "    # One-Hot-Encode customer type\n",
    "    ct_contract = X['customer_type'] == 'Contract'\n",
    "    ct_group = X['customer_type'] == 'Group'\n",
    "    ct_transient = X['customer_type'] == 'Transient'\n",
    "    ct_transient_party = X['customer_type'] == 'Transient-Party'\n",
    "    X.insert(5,'ct_contract',ct_contract)\n",
    "    X.insert(5,'ct_group',ct_group)\n",
    "    X.insert(5,'ct_transient',ct_transient)\n",
    "    X.insert(5,'ct_transient_party',ct_transient_party)\n",
    "    X = X.drop('customer_type',axis=1)\n",
    "    \n",
    "    # Fix outliers in adr\n",
    "    X.update(X['adr'].apply(lambda x: min(500,x)))\n",
    "    X.update(X['adr'].apply(lambda x: max(0,x)))\n",
    "    \n",
    "    # Fix outliers in adults\n",
    "    X.update(X['adults'].apply(lambda x: min(5,x)))\n",
    "    \n",
    "    # Include total length of booking instead of week nights vs weekend nights\n",
    "    num_nights = X['stays_in_weekend_nights'] | X['stays_in_week_nights']\n",
    "    X = X.drop(['stays_in_weekend_nights','stays_in_week_nights'],axis=1)\n",
    "    X.insert(1,'num_nights',num_nights)\n",
    "\n",
    "    # Hotel can be transformed to a binary\n",
    "    if 'hotel' in X.keys():\n",
    "        is_resort = (X['hotel'] == 'Resort Hotel')\n",
    "        X.insert(1,'is_resort',is_resort)\n",
    "        X = X.drop(['hotel'],axis=1)\n",
    "    \n",
    "    return X\n",
    "\n",
    "X_train = preprocess(X_train)\n",
    "X_test = preprocess(X_test)\n",
    "data_plot = preprocess(data)"
   ]
  },
  {
   "cell_type": "code",
   "execution_count": 4,
   "metadata": {},
   "outputs": [],
   "source": [
    "# Train the model\n",
    "from sklearn.linear_model import LogisticRegression\n",
    "from sklearn.ensemble import RandomForestClassifier\n",
    "\n",
    "model = RandomForestClassifier(n_estimators=100,min_samples_leaf=10)\n",
    "model.fit(X_train,y_train);"
   ]
  },
  {
   "cell_type": "code",
   "execution_count": 5,
   "metadata": {},
   "outputs": [
    {
     "data": {
      "image/png": "[encoded data removed]",
      "text/plain": [
       "<Figure size 432x288 with 1 Axes>"
      ]
     },
     "metadata": {
      "needs_background": "light"
     },
     "output_type": "display_data"
    },
    {
     "name": "stdout",
     "output_type": "stream",
     "text": [
      "Accuracy score (training) 0.8282818613667093\n",
      "F1 score (training): 0.7360055922444398\n",
      "Recall (training): 0.6477254330581188\n",
      "Precision (training): 0.852146873402624\n"
     ]
    }
   ],
   "source": [
    "# Check accuracy and confusion matrix\n",
    "from sklearn.model_selection import cross_val_score,cross_val_predict\n",
    "from sklearn.metrics import confusion_matrix,recall_score,precision_score,f1_score,accuracy_score\n",
    "from hotel_modules import plot_confusion_matrix\n",
    "y_train_pred = cross_val_predict(model,X_train,y_train,cv=6)\n",
    "conf_mx = confusion_matrix(y_train,y_train_pred)\n",
    "plot_confusion_matrix(conf_mx,cats = ['Showed up','Cancelled'])\n",
    "\n",
    "f1 = f1_score(y_train,y_train_pred)\n",
    "print('Accuracy score (training)',accuracy_score(y_train,y_train_pred))\n",
    "print('F1 score (training):',f1)\n",
    "print('Recall (training):',recall_score(y_train,y_train_pred))\n",
    "print('Precision (training):',precision_score(y_train,y_train_pred))"
   ]
  },
  {
   "cell_type": "code",
   "execution_count": 6,
   "metadata": {},
   "outputs": [
    {
     "name": "stdout",
     "output_type": "stream",
     "text": [
      "is_resort 0.01520762774618451\n",
      "num_nights 0.03298310753601156\n",
      "lead_time 0.2233097149319071\n",
      "arrival_date_week_number 0.07173897803719538\n",
      "ct_transient_party 0.04087771919052158\n",
      "ct_transient 0.05913183139840903\n",
      "ct_group 0.00025065678459740173\n",
      "ct_contract 0.005380444121807026\n",
      "ms_other 0.03370601075054224\n",
      "ms_ta 0.02323645608584115\n",
      "ms_groups 0.051355000266282314\n",
      "adults 0.014054057639056776\n",
      "previous_cancellations 0.10190398966906594\n",
      "booking_changes 0.04046711141434378\n",
      "adr 0.11589311661185256\n",
      "required_car_parking_spaces 0.04400190598622978\n",
      "total_of_special_requests 0.1265022718301519\n"
     ]
    }
   ],
   "source": [
    "# Look at feature importances\n",
    "for ix,k in enumerate(X_train.keys()):\n",
    "    print(k,model.feature_importances_[ix])"
   ]
  },
  {
   "cell_type": "code",
   "execution_count": 8,
   "metadata": {},
   "outputs": [],
   "source": [
    "# SAVE THIS FOR THE END!\n",
    "# Accuracy and confusion matrix\n",
    "# from sklearn.model_selection import cross_val_score,cross_val_predict\n",
    "# from sklearn.metrics import confusion_matrix,recall_score,precision_score,f1_score,accuracy_score\n",
    "# from hotel_modules import plot_confusion_matrix\n",
    "# y_test_pred = cross_val_predict(model,X_test,y_test,cv=6)\n",
    "# conf_mx = confusion_matrix(y_test,y_test_pred)\n",
    "# plot_confusion_matrix(conf_mx,cats = ['Showed up','Cancelled'])\n",
    "\n",
    "# f1 = f1_score(y_test,y_test_pred)\n",
    "# print('Accuracy score (test)',accuracy_score(y_test,y_test_pred))\n",
    "# print('F1 score (test):',f1)\n",
    "# print('Recall (test):',recall_score(y_test,y_test_pred))\n",
    "# print('Precision (test):',precision_score(y_test,y_test_pred))"
   ]
  },
  {
   "cell_type": "code",
   "execution_count": null,
   "metadata": {},
   "outputs": [],
   "source": []
  }
 ],
 "metadata": {
  "kernelspec": {
   "display_name": "Python 3",
   "language": "python",
   "name": "python3"
  },
  "language_info": {
   "codemirror_mode": {
    "name": "ipython",
    "version": 3
   },
   "file_extension": ".py",
   "mimetype": "text/x-python",
   "name": "python",
   "nbconvert_exporter": "python",
   "pygments_lexer": "ipython3",
   "version": "3.7.5"
  }
 },
 "nbformat": 4,
 "nbformat_minor": 4
}
